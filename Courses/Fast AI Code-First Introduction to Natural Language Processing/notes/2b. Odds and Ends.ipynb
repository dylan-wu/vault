{
 "cells": [
  {
   "cell_type": "markdown",
   "metadata": {},
   "source": [
    "In this notebook, I want to wrap up some loose ends from last time.\n",
    "\n",
    "## The two cultures\n",
    "\n",
    "This \"debate\" captures the tension between two approaches:\n",
    "- modeling the underlying mechanism of a phenomena\n",
    "- using machine learning to predict outputs (without necessarily understanding the mechanisms that create them)\n",
    "\n",
    "I was part of a research project (in 2007) that involved manually coding each of the above reactions. We were determining if the final system could generate the same outputs (in this case, levels in the blood of various substrates) as were observed in clinical studies.\n",
    "\n",
    "The equation for each reaction could be quite complex:"
   ]
  },
  {
   "cell_type": "code",
   "execution_count": null,
   "metadata": {},
   "outputs": [],
   "source": []
  }
 ],
 "metadata": {
  "language_info": {
   "name": "python"
  },
  "orig_nbformat": 4
 },
 "nbformat": 4,
 "nbformat_minor": 2
}
