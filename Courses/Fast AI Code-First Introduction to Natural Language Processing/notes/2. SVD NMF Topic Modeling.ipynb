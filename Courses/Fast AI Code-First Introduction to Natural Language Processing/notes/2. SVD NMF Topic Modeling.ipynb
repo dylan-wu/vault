{
 "cells": [
  {
   "cell_type": "markdown",
   "metadata": {},
   "source": [
    "## The problem\n",
    "\n",
    "Topic modeling is a fun way to start our study of NLP. We will use two popular **matrix decomposition techniques**.\n",
    "\n",
    "We start with a **term-document matrix**:\n",
    "\n",
    "![[Pasted image 20220607090648.png | 750]]\n",
    "\n",
    "We can decompose this into one tall thin matrix times one wide short matrix (possibly with a diagnoal matrix in between).\n",
    "\n",
    "### Motivation\n",
    "\n",
    "Consider the most extreme case\n",
    "\n",
    "## Getting started"
   ]
  },
  {
   "cell_type": "code",
   "execution_count": null,
   "metadata": {},
   "outputs": [],
   "source": [
    "import numpy as np\n",
    "from sklearn.datasets import fetch_20newsgroups\n",
    "from sklearn import decomposition\n",
    "from scipy import linalg\n",
    "import matplotlib.pyplot as plt"
   ]
  }
 ],
 "metadata": {
  "language_info": {
   "name": "python"
  },
  "orig_nbformat": 4
 },
 "nbformat": 4,
 "nbformat_minor": 2
}
